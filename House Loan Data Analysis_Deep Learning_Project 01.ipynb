{
 "cells": [
  {
   "cell_type": "markdown",
   "id": "814427a0",
   "metadata": {},
   "source": [
    "# House Loan Data Analysis"
   ]
  },
  {
   "cell_type": "markdown",
   "id": "da2847d2",
   "metadata": {},
   "source": [
    "## Deep Learning Project_01"
   ]
  },
  {
   "cell_type": "code",
   "execution_count": 1,
   "id": "27dc4124",
   "metadata": {},
   "outputs": [],
   "source": [
    "# Lets first import the important libaray.\n",
    "import numpy as np \n",
    "import pandas as pd \n",
    "import matplotlib.pyplot as plt \n",
    "import seaborn as sns "
   ]
  },
  {
   "cell_type": "code",
   "execution_count": 2,
   "id": "3ed2b2f2",
   "metadata": {},
   "outputs": [],
   "source": [
    "# let ignore the un necessary warnings\n",
    "import warnings\n",
    "warnings.filterwarnings(\"ignore\")"
   ]
  },
  {
   "cell_type": "markdown",
   "id": "da2159de",
   "metadata": {},
   "source": [
    "### Load the dataset that is given to you"
   ]
  },
  {
   "cell_type": "code",
   "execution_count": 3,
   "id": "b6790eff",
   "metadata": {},
   "outputs": [],
   "source": [
    "df = pd.read_csv('loan_data.csv')"
   ]
  },
  {
   "cell_type": "code",
   "execution_count": 4,
   "id": "aa36e976",
   "metadata": {},
   "outputs": [
    {
     "data": {
      "text/html": [
       "<div>\n",
       "<style scoped>\n",
       "    .dataframe tbody tr th:only-of-type {\n",
       "        vertical-align: middle;\n",
       "    }\n",
       "\n",
       "    .dataframe tbody tr th {\n",
       "        vertical-align: top;\n",
       "    }\n",
       "\n",
       "    .dataframe thead th {\n",
       "        text-align: right;\n",
       "    }\n",
       "</style>\n",
       "<table border=\"1\" class=\"dataframe\">\n",
       "  <thead>\n",
       "    <tr style=\"text-align: right;\">\n",
       "      <th></th>\n",
       "      <th>SK_ID_CURR</th>\n",
       "      <th>TARGET</th>\n",
       "      <th>NAME_CONTRACT_TYPE</th>\n",
       "      <th>CODE_GENDER</th>\n",
       "      <th>FLAG_OWN_CAR</th>\n",
       "      <th>FLAG_OWN_REALTY</th>\n",
       "      <th>CNT_CHILDREN</th>\n",
       "      <th>AMT_INCOME_TOTAL</th>\n",
       "      <th>AMT_CREDIT</th>\n",
       "      <th>AMT_ANNUITY</th>\n",
       "      <th>...</th>\n",
       "      <th>FLAG_DOCUMENT_18</th>\n",
       "      <th>FLAG_DOCUMENT_19</th>\n",
       "      <th>FLAG_DOCUMENT_20</th>\n",
       "      <th>FLAG_DOCUMENT_21</th>\n",
       "      <th>AMT_REQ_CREDIT_BUREAU_HOUR</th>\n",
       "      <th>AMT_REQ_CREDIT_BUREAU_DAY</th>\n",
       "      <th>AMT_REQ_CREDIT_BUREAU_WEEK</th>\n",
       "      <th>AMT_REQ_CREDIT_BUREAU_MON</th>\n",
       "      <th>AMT_REQ_CREDIT_BUREAU_QRT</th>\n",
       "      <th>AMT_REQ_CREDIT_BUREAU_YEAR</th>\n",
       "    </tr>\n",
       "  </thead>\n",
       "  <tbody>\n",
       "    <tr>\n",
       "      <th>0</th>\n",
       "      <td>100002</td>\n",
       "      <td>1</td>\n",
       "      <td>Cash loans</td>\n",
       "      <td>M</td>\n",
       "      <td>N</td>\n",
       "      <td>Y</td>\n",
       "      <td>0</td>\n",
       "      <td>202500.0</td>\n",
       "      <td>406597.5</td>\n",
       "      <td>24700.5</td>\n",
       "      <td>...</td>\n",
       "      <td>0</td>\n",
       "      <td>0</td>\n",
       "      <td>0</td>\n",
       "      <td>0</td>\n",
       "      <td>0.0</td>\n",
       "      <td>0.0</td>\n",
       "      <td>0.0</td>\n",
       "      <td>0.0</td>\n",
       "      <td>0.0</td>\n",
       "      <td>1.0</td>\n",
       "    </tr>\n",
       "    <tr>\n",
       "      <th>1</th>\n",
       "      <td>100003</td>\n",
       "      <td>0</td>\n",
       "      <td>Cash loans</td>\n",
       "      <td>F</td>\n",
       "      <td>N</td>\n",
       "      <td>N</td>\n",
       "      <td>0</td>\n",
       "      <td>270000.0</td>\n",
       "      <td>1293502.5</td>\n",
       "      <td>35698.5</td>\n",
       "      <td>...</td>\n",
       "      <td>0</td>\n",
       "      <td>0</td>\n",
       "      <td>0</td>\n",
       "      <td>0</td>\n",
       "      <td>0.0</td>\n",
       "      <td>0.0</td>\n",
       "      <td>0.0</td>\n",
       "      <td>0.0</td>\n",
       "      <td>0.0</td>\n",
       "      <td>0.0</td>\n",
       "    </tr>\n",
       "    <tr>\n",
       "      <th>2</th>\n",
       "      <td>100004</td>\n",
       "      <td>0</td>\n",
       "      <td>Revolving loans</td>\n",
       "      <td>M</td>\n",
       "      <td>Y</td>\n",
       "      <td>Y</td>\n",
       "      <td>0</td>\n",
       "      <td>67500.0</td>\n",
       "      <td>135000.0</td>\n",
       "      <td>6750.0</td>\n",
       "      <td>...</td>\n",
       "      <td>0</td>\n",
       "      <td>0</td>\n",
       "      <td>0</td>\n",
       "      <td>0</td>\n",
       "      <td>0.0</td>\n",
       "      <td>0.0</td>\n",
       "      <td>0.0</td>\n",
       "      <td>0.0</td>\n",
       "      <td>0.0</td>\n",
       "      <td>0.0</td>\n",
       "    </tr>\n",
       "    <tr>\n",
       "      <th>3</th>\n",
       "      <td>100006</td>\n",
       "      <td>0</td>\n",
       "      <td>Cash loans</td>\n",
       "      <td>F</td>\n",
       "      <td>N</td>\n",
       "      <td>Y</td>\n",
       "      <td>0</td>\n",
       "      <td>135000.0</td>\n",
       "      <td>312682.5</td>\n",
       "      <td>29686.5</td>\n",
       "      <td>...</td>\n",
       "      <td>0</td>\n",
       "      <td>0</td>\n",
       "      <td>0</td>\n",
       "      <td>0</td>\n",
       "      <td>NaN</td>\n",
       "      <td>NaN</td>\n",
       "      <td>NaN</td>\n",
       "      <td>NaN</td>\n",
       "      <td>NaN</td>\n",
       "      <td>NaN</td>\n",
       "    </tr>\n",
       "    <tr>\n",
       "      <th>4</th>\n",
       "      <td>100007</td>\n",
       "      <td>0</td>\n",
       "      <td>Cash loans</td>\n",
       "      <td>M</td>\n",
       "      <td>N</td>\n",
       "      <td>Y</td>\n",
       "      <td>0</td>\n",
       "      <td>121500.0</td>\n",
       "      <td>513000.0</td>\n",
       "      <td>21865.5</td>\n",
       "      <td>...</td>\n",
       "      <td>0</td>\n",
       "      <td>0</td>\n",
       "      <td>0</td>\n",
       "      <td>0</td>\n",
       "      <td>0.0</td>\n",
       "      <td>0.0</td>\n",
       "      <td>0.0</td>\n",
       "      <td>0.0</td>\n",
       "      <td>0.0</td>\n",
       "      <td>0.0</td>\n",
       "    </tr>\n",
       "  </tbody>\n",
       "</table>\n",
       "<p>5 rows × 122 columns</p>\n",
       "</div>"
      ],
      "text/plain": [
       "   SK_ID_CURR  TARGET NAME_CONTRACT_TYPE CODE_GENDER FLAG_OWN_CAR  \\\n",
       "0      100002       1         Cash loans           M            N   \n",
       "1      100003       0         Cash loans           F            N   \n",
       "2      100004       0    Revolving loans           M            Y   \n",
       "3      100006       0         Cash loans           F            N   \n",
       "4      100007       0         Cash loans           M            N   \n",
       "\n",
       "  FLAG_OWN_REALTY  CNT_CHILDREN  AMT_INCOME_TOTAL  AMT_CREDIT  AMT_ANNUITY  \\\n",
       "0               Y             0          202500.0    406597.5      24700.5   \n",
       "1               N             0          270000.0   1293502.5      35698.5   \n",
       "2               Y             0           67500.0    135000.0       6750.0   \n",
       "3               Y             0          135000.0    312682.5      29686.5   \n",
       "4               Y             0          121500.0    513000.0      21865.5   \n",
       "\n",
       "   ...  FLAG_DOCUMENT_18 FLAG_DOCUMENT_19 FLAG_DOCUMENT_20 FLAG_DOCUMENT_21  \\\n",
       "0  ...                 0                0                0                0   \n",
       "1  ...                 0                0                0                0   \n",
       "2  ...                 0                0                0                0   \n",
       "3  ...                 0                0                0                0   \n",
       "4  ...                 0                0                0                0   \n",
       "\n",
       "  AMT_REQ_CREDIT_BUREAU_HOUR AMT_REQ_CREDIT_BUREAU_DAY  \\\n",
       "0                        0.0                       0.0   \n",
       "1                        0.0                       0.0   \n",
       "2                        0.0                       0.0   \n",
       "3                        NaN                       NaN   \n",
       "4                        0.0                       0.0   \n",
       "\n",
       "   AMT_REQ_CREDIT_BUREAU_WEEK  AMT_REQ_CREDIT_BUREAU_MON  \\\n",
       "0                         0.0                        0.0   \n",
       "1                         0.0                        0.0   \n",
       "2                         0.0                        0.0   \n",
       "3                         NaN                        NaN   \n",
       "4                         0.0                        0.0   \n",
       "\n",
       "   AMT_REQ_CREDIT_BUREAU_QRT  AMT_REQ_CREDIT_BUREAU_YEAR  \n",
       "0                        0.0                         1.0  \n",
       "1                        0.0                         0.0  \n",
       "2                        0.0                         0.0  \n",
       "3                        NaN                         NaN  \n",
       "4                        0.0                         0.0  \n",
       "\n",
       "[5 rows x 122 columns]"
      ]
     },
     "execution_count": 4,
     "metadata": {},
     "output_type": "execute_result"
    }
   ],
   "source": [
    "df.head()"
   ]
  },
  {
   "cell_type": "code",
   "execution_count": 5,
   "id": "3a6bc584",
   "metadata": {},
   "outputs": [
    {
     "data": {
      "text/plain": [
       "(307511, 122)"
      ]
     },
     "execution_count": 5,
     "metadata": {},
     "output_type": "execute_result"
    }
   ],
   "source": [
    "df.shape"
   ]
  },
  {
   "cell_type": "markdown",
   "id": "c35d1a55",
   "metadata": {},
   "source": [
    "### Check for null values in the dataset"
   ]
  },
  {
   "cell_type": "code",
   "execution_count": 6,
   "id": "c695fcb7",
   "metadata": {},
   "outputs": [],
   "source": [
    "pd.set_option('display.max_rows', 500)"
   ]
  },
  {
   "cell_type": "code",
   "execution_count": 7,
   "id": "54561641",
   "metadata": {},
   "outputs": [
    {
     "data": {
      "text/plain": [
       "SK_ID_CURR                       0.000000\n",
       "TARGET                           0.000000\n",
       "NAME_CONTRACT_TYPE               0.000000\n",
       "CODE_GENDER                      0.000000\n",
       "FLAG_OWN_CAR                     0.000000\n",
       "FLAG_OWN_REALTY                  0.000000\n",
       "CNT_CHILDREN                     0.000000\n",
       "AMT_INCOME_TOTAL                 0.000000\n",
       "AMT_CREDIT                       0.000000\n",
       "AMT_ANNUITY                      0.003902\n",
       "AMT_GOODS_PRICE                  0.090403\n",
       "NAME_TYPE_SUITE                  0.420148\n",
       "NAME_INCOME_TYPE                 0.000000\n",
       "NAME_EDUCATION_TYPE              0.000000\n",
       "NAME_FAMILY_STATUS               0.000000\n",
       "NAME_HOUSING_TYPE                0.000000\n",
       "REGION_POPULATION_RELATIVE       0.000000\n",
       "DAYS_BIRTH                       0.000000\n",
       "DAYS_EMPLOYED                    0.000000\n",
       "DAYS_REGISTRATION                0.000000\n",
       "DAYS_ID_PUBLISH                  0.000000\n",
       "OWN_CAR_AGE                     65.990810\n",
       "FLAG_MOBIL                       0.000000\n",
       "FLAG_EMP_PHONE                   0.000000\n",
       "FLAG_WORK_PHONE                  0.000000\n",
       "FLAG_CONT_MOBILE                 0.000000\n",
       "FLAG_PHONE                       0.000000\n",
       "FLAG_EMAIL                       0.000000\n",
       "OCCUPATION_TYPE                 31.345545\n",
       "CNT_FAM_MEMBERS                  0.000650\n",
       "REGION_RATING_CLIENT             0.000000\n",
       "REGION_RATING_CLIENT_W_CITY      0.000000\n",
       "WEEKDAY_APPR_PROCESS_START       0.000000\n",
       "HOUR_APPR_PROCESS_START          0.000000\n",
       "REG_REGION_NOT_LIVE_REGION       0.000000\n",
       "REG_REGION_NOT_WORK_REGION       0.000000\n",
       "LIVE_REGION_NOT_WORK_REGION      0.000000\n",
       "REG_CITY_NOT_LIVE_CITY           0.000000\n",
       "REG_CITY_NOT_WORK_CITY           0.000000\n",
       "LIVE_CITY_NOT_WORK_CITY          0.000000\n",
       "ORGANIZATION_TYPE                0.000000\n",
       "EXT_SOURCE_1                    56.381073\n",
       "EXT_SOURCE_2                     0.214626\n",
       "EXT_SOURCE_3                    19.825307\n",
       "APARTMENTS_AVG                  50.749729\n",
       "BASEMENTAREA_AVG                58.515956\n",
       "YEARS_BEGINEXPLUATATION_AVG     48.781019\n",
       "YEARS_BUILD_AVG                 66.497784\n",
       "COMMONAREA_AVG                  69.872297\n",
       "ELEVATORS_AVG                   53.295980\n",
       "ENTRANCES_AVG                   50.348768\n",
       "FLOORSMAX_AVG                   49.760822\n",
       "FLOORSMIN_AVG                   67.848630\n",
       "LANDAREA_AVG                    59.376738\n",
       "LIVINGAPARTMENTS_AVG            68.354953\n",
       "LIVINGAREA_AVG                  50.193326\n",
       "NONLIVINGAPARTMENTS_AVG         69.432963\n",
       "NONLIVINGAREA_AVG               55.179164\n",
       "APARTMENTS_MODE                 50.749729\n",
       "BASEMENTAREA_MODE               58.515956\n",
       "YEARS_BEGINEXPLUATATION_MODE    48.781019\n",
       "YEARS_BUILD_MODE                66.497784\n",
       "COMMONAREA_MODE                 69.872297\n",
       "ELEVATORS_MODE                  53.295980\n",
       "ENTRANCES_MODE                  50.348768\n",
       "FLOORSMAX_MODE                  49.760822\n",
       "FLOORSMIN_MODE                  67.848630\n",
       "LANDAREA_MODE                   59.376738\n",
       "LIVINGAPARTMENTS_MODE           68.354953\n",
       "LIVINGAREA_MODE                 50.193326\n",
       "NONLIVINGAPARTMENTS_MODE        69.432963\n",
       "NONLIVINGAREA_MODE              55.179164\n",
       "APARTMENTS_MEDI                 50.749729\n",
       "BASEMENTAREA_MEDI               58.515956\n",
       "YEARS_BEGINEXPLUATATION_MEDI    48.781019\n",
       "YEARS_BUILD_MEDI                66.497784\n",
       "COMMONAREA_MEDI                 69.872297\n",
       "ELEVATORS_MEDI                  53.295980\n",
       "ENTRANCES_MEDI                  50.348768\n",
       "FLOORSMAX_MEDI                  49.760822\n",
       "FLOORSMIN_MEDI                  67.848630\n",
       "LANDAREA_MEDI                   59.376738\n",
       "LIVINGAPARTMENTS_MEDI           68.354953\n",
       "LIVINGAREA_MEDI                 50.193326\n",
       "NONLIVINGAPARTMENTS_MEDI        69.432963\n",
       "NONLIVINGAREA_MEDI              55.179164\n",
       "FONDKAPREMONT_MODE              68.386172\n",
       "HOUSETYPE_MODE                  50.176091\n",
       "TOTALAREA_MODE                  48.268517\n",
       "WALLSMATERIAL_MODE              50.840783\n",
       "EMERGENCYSTATE_MODE             47.398304\n",
       "OBS_30_CNT_SOCIAL_CIRCLE         0.332021\n",
       "DEF_30_CNT_SOCIAL_CIRCLE         0.332021\n",
       "OBS_60_CNT_SOCIAL_CIRCLE         0.332021\n",
       "DEF_60_CNT_SOCIAL_CIRCLE         0.332021\n",
       "DAYS_LAST_PHONE_CHANGE           0.000325\n",
       "FLAG_DOCUMENT_2                  0.000000\n",
       "FLAG_DOCUMENT_3                  0.000000\n",
       "FLAG_DOCUMENT_4                  0.000000\n",
       "FLAG_DOCUMENT_5                  0.000000\n",
       "FLAG_DOCUMENT_6                  0.000000\n",
       "FLAG_DOCUMENT_7                  0.000000\n",
       "FLAG_DOCUMENT_8                  0.000000\n",
       "FLAG_DOCUMENT_9                  0.000000\n",
       "FLAG_DOCUMENT_10                 0.000000\n",
       "FLAG_DOCUMENT_11                 0.000000\n",
       "FLAG_DOCUMENT_12                 0.000000\n",
       "FLAG_DOCUMENT_13                 0.000000\n",
       "FLAG_DOCUMENT_14                 0.000000\n",
       "FLAG_DOCUMENT_15                 0.000000\n",
       "FLAG_DOCUMENT_16                 0.000000\n",
       "FLAG_DOCUMENT_17                 0.000000\n",
       "FLAG_DOCUMENT_18                 0.000000\n",
       "FLAG_DOCUMENT_19                 0.000000\n",
       "FLAG_DOCUMENT_20                 0.000000\n",
       "FLAG_DOCUMENT_21                 0.000000\n",
       "AMT_REQ_CREDIT_BUREAU_HOUR      13.501631\n",
       "AMT_REQ_CREDIT_BUREAU_DAY       13.501631\n",
       "AMT_REQ_CREDIT_BUREAU_WEEK      13.501631\n",
       "AMT_REQ_CREDIT_BUREAU_MON       13.501631\n",
       "AMT_REQ_CREDIT_BUREAU_QRT       13.501631\n",
       "AMT_REQ_CREDIT_BUREAU_YEAR      13.501631\n",
       "dtype: float64"
      ]
     },
     "execution_count": 7,
     "metadata": {},
     "output_type": "execute_result"
    }
   ],
   "source": [
    "((df.isnull().sum()/df.shape[0])*100)"
   ]
  },
  {
   "cell_type": "code",
   "execution_count": 8,
   "id": "d9289de6",
   "metadata": {},
   "outputs": [],
   "source": [
    "# Lets drop the colums in which max of the data point is missed.\n",
    "loan_df = df.drop(['OWN_CAR_AGE', 'EXT_SOURCE_1', 'APARTMENTS_AVG', 'BASEMENTAREA_AVG','YEARS_BEGINEXPLUATATION_AVG',\n",
    "                  'YEARS_BUILD_AVG','COMMONAREA_AVG', 'ELEVATORS_AVG','ENTRANCES_AVG','FLOORSMAX_AVG', 'FLOORSMIN_AVG',\n",
    "                  'LANDAREA_AVG','LIVINGAPARTMENTS_AVG','LIVINGAREA_AVG','NONLIVINGAPARTMENTS_AVG','NONLIVINGAREA_AVG',\n",
    "                  'APARTMENTS_MODE','BASEMENTAREA_MODE','YEARS_BEGINEXPLUATATION_MODE','YEARS_BUILD_MODE','COMMONAREA_MODE',\n",
    "                  'ELEVATORS_MODE','ENTRANCES_MODE','FLOORSMAX_MODE','FLOORSMIN_MODE','LANDAREA_MODE','LIVINGAPARTMENTS_MODE',\n",
    "                  'LIVINGAREA_MODE','NONLIVINGAPARTMENTS_MODE','NONLIVINGAREA_MODE','APARTMENTS_MEDI','BASEMENTAREA_MEDI',\n",
    "                  'YEARS_BEGINEXPLUATATION_MEDI','YEARS_BUILD_MEDI','COMMONAREA_MEDI','ELEVATORS_MEDI','ENTRANCES_MEDI',\n",
    "                  'FLOORSMAX_MEDI','FLOORSMIN_MEDI','LANDAREA_MEDI','LIVINGAPARTMENTS_MEDI','LIVINGAREA_MEDI',\n",
    "                  'NONLIVINGAPARTMENTS_MEDI','NONLIVINGAREA_MEDI','FONDKAPREMONT_MODE','HOUSETYPE_MODE','TOTALAREA_MODE',\n",
    "                  'WALLSMATERIAL_MODE','EMERGENCYSTATE_MODE','SK_ID_CURR'], axis=1)"
   ]
  },
  {
   "cell_type": "code",
   "execution_count": 9,
   "id": "fd42cd82",
   "metadata": {},
   "outputs": [],
   "source": [
    "loan_df = loan_df.dropna(subset=['OCCUPATION_TYPE','AMT_REQ_CREDIT_BUREAU_HOUR','EXT_SOURCE_3','OBS_30_CNT_SOCIAL_CIRCLE',\n",
    "                                'EXT_SOURCE_2','NAME_TYPE_SUITE','AMT_ANNUITY'])"
   ]
  },
  {
   "cell_type": "code",
   "execution_count": 10,
   "id": "19369f30",
   "metadata": {
    "scrolled": true
   },
   "outputs": [
    {
     "data": {
      "text/plain": [
       "TARGET                         0\n",
       "NAME_CONTRACT_TYPE             0\n",
       "CODE_GENDER                    0\n",
       "FLAG_OWN_CAR                   0\n",
       "FLAG_OWN_REALTY                0\n",
       "CNT_CHILDREN                   0\n",
       "AMT_INCOME_TOTAL               0\n",
       "AMT_CREDIT                     0\n",
       "AMT_ANNUITY                    0\n",
       "AMT_GOODS_PRICE                0\n",
       "NAME_TYPE_SUITE                0\n",
       "NAME_INCOME_TYPE               0\n",
       "NAME_EDUCATION_TYPE            0\n",
       "NAME_FAMILY_STATUS             0\n",
       "NAME_HOUSING_TYPE              0\n",
       "REGION_POPULATION_RELATIVE     0\n",
       "DAYS_BIRTH                     0\n",
       "DAYS_EMPLOYED                  0\n",
       "DAYS_REGISTRATION              0\n",
       "DAYS_ID_PUBLISH                0\n",
       "FLAG_MOBIL                     0\n",
       "FLAG_EMP_PHONE                 0\n",
       "FLAG_WORK_PHONE                0\n",
       "FLAG_CONT_MOBILE               0\n",
       "FLAG_PHONE                     0\n",
       "FLAG_EMAIL                     0\n",
       "OCCUPATION_TYPE                0\n",
       "CNT_FAM_MEMBERS                0\n",
       "REGION_RATING_CLIENT           0\n",
       "REGION_RATING_CLIENT_W_CITY    0\n",
       "WEEKDAY_APPR_PROCESS_START     0\n",
       "HOUR_APPR_PROCESS_START        0\n",
       "REG_REGION_NOT_LIVE_REGION     0\n",
       "REG_REGION_NOT_WORK_REGION     0\n",
       "LIVE_REGION_NOT_WORK_REGION    0\n",
       "REG_CITY_NOT_LIVE_CITY         0\n",
       "REG_CITY_NOT_WORK_CITY         0\n",
       "LIVE_CITY_NOT_WORK_CITY        0\n",
       "ORGANIZATION_TYPE              0\n",
       "EXT_SOURCE_2                   0\n",
       "EXT_SOURCE_3                   0\n",
       "OBS_30_CNT_SOCIAL_CIRCLE       0\n",
       "DEF_30_CNT_SOCIAL_CIRCLE       0\n",
       "OBS_60_CNT_SOCIAL_CIRCLE       0\n",
       "DEF_60_CNT_SOCIAL_CIRCLE       0\n",
       "DAYS_LAST_PHONE_CHANGE         0\n",
       "FLAG_DOCUMENT_2                0\n",
       "FLAG_DOCUMENT_3                0\n",
       "FLAG_DOCUMENT_4                0\n",
       "FLAG_DOCUMENT_5                0\n",
       "FLAG_DOCUMENT_6                0\n",
       "FLAG_DOCUMENT_7                0\n",
       "FLAG_DOCUMENT_8                0\n",
       "FLAG_DOCUMENT_9                0\n",
       "FLAG_DOCUMENT_10               0\n",
       "FLAG_DOCUMENT_11               0\n",
       "FLAG_DOCUMENT_12               0\n",
       "FLAG_DOCUMENT_13               0\n",
       "FLAG_DOCUMENT_14               0\n",
       "FLAG_DOCUMENT_15               0\n",
       "FLAG_DOCUMENT_16               0\n",
       "FLAG_DOCUMENT_17               0\n",
       "FLAG_DOCUMENT_18               0\n",
       "FLAG_DOCUMENT_19               0\n",
       "FLAG_DOCUMENT_20               0\n",
       "FLAG_DOCUMENT_21               0\n",
       "AMT_REQ_CREDIT_BUREAU_HOUR     0\n",
       "AMT_REQ_CREDIT_BUREAU_DAY      0\n",
       "AMT_REQ_CREDIT_BUREAU_WEEK     0\n",
       "AMT_REQ_CREDIT_BUREAU_MON      0\n",
       "AMT_REQ_CREDIT_BUREAU_QRT      0\n",
       "AMT_REQ_CREDIT_BUREAU_YEAR     0\n",
       "dtype: int64"
      ]
     },
     "execution_count": 10,
     "metadata": {},
     "output_type": "execute_result"
    }
   ],
   "source": [
    "loan_df.isnull().sum()"
   ]
  },
  {
   "cell_type": "code",
   "execution_count": 11,
   "id": "109e0a77",
   "metadata": {},
   "outputs": [
    {
     "data": {
      "text/plain": [
       "Cash loans         151480\n",
       "Revolving loans     16252\n",
       "Name: NAME_CONTRACT_TYPE, dtype: int64"
      ]
     },
     "execution_count": 11,
     "metadata": {},
     "output_type": "execute_result"
    }
   ],
   "source": [
    "loan_df['NAME_CONTRACT_TYPE'].value_counts()"
   ]
  },
  {
   "cell_type": "code",
   "execution_count": 12,
   "id": "e7f44702",
   "metadata": {},
   "outputs": [
    {
     "data": {
      "text/plain": [
       "F      103737\n",
       "M       63993\n",
       "XNA         2\n",
       "Name: CODE_GENDER, dtype: int64"
      ]
     },
     "execution_count": 12,
     "metadata": {},
     "output_type": "execute_result"
    }
   ],
   "source": [
    "loan_df['CODE_GENDER'].value_counts()"
   ]
  },
  {
   "cell_type": "code",
   "execution_count": 13,
   "id": "bf145fb3",
   "metadata": {},
   "outputs": [
    {
     "data": {
      "text/plain": [
       "N    102179\n",
       "Y     65553\n",
       "Name: FLAG_OWN_CAR, dtype: int64"
      ]
     },
     "execution_count": 13,
     "metadata": {},
     "output_type": "execute_result"
    }
   ],
   "source": [
    "loan_df['FLAG_OWN_CAR'].value_counts()"
   ]
  },
  {
   "cell_type": "code",
   "execution_count": 14,
   "id": "728156d2",
   "metadata": {},
   "outputs": [
    {
     "data": {
      "text/plain": [
       "Y    113749\n",
       "N     53983\n",
       "Name: FLAG_OWN_REALTY, dtype: int64"
      ]
     },
     "execution_count": 14,
     "metadata": {},
     "output_type": "execute_result"
    }
   ],
   "source": [
    "loan_df['FLAG_OWN_REALTY'].value_counts()"
   ]
  },
  {
   "cell_type": "code",
   "execution_count": 15,
   "id": "0f1d28ed",
   "metadata": {},
   "outputs": [
    {
     "data": {
      "text/plain": [
       "Unaccompanied      137289\n",
       "Family              21103\n",
       "Spouse, partner      6312\n",
       "Children             1502\n",
       "Other_B               928\n",
       "Other_A               455\n",
       "Group of people       143\n",
       "Name: NAME_TYPE_SUITE, dtype: int64"
      ]
     },
     "execution_count": 15,
     "metadata": {},
     "output_type": "execute_result"
    }
   ],
   "source": [
    "loan_df['NAME_TYPE_SUITE'].value_counts()"
   ]
  },
  {
   "cell_type": "code",
   "execution_count": 16,
   "id": "3870aebd",
   "metadata": {},
   "outputs": [
    {
     "data": {
      "text/plain": [
       "Working                 106020\n",
       "Commercial associate     46553\n",
       "State servant            15144\n",
       "Student                     10\n",
       "Businessman                  3\n",
       "Pensioner                    2\n",
       "Name: NAME_INCOME_TYPE, dtype: int64"
      ]
     },
     "execution_count": 16,
     "metadata": {},
     "output_type": "execute_result"
    }
   ],
   "source": [
    "loan_df['NAME_INCOME_TYPE'].value_counts()"
   ]
  },
  {
   "cell_type": "code",
   "execution_count": 17,
   "id": "71ac7a10",
   "metadata": {},
   "outputs": [
    {
     "data": {
      "text/plain": [
       "Secondary / secondary special    115722\n",
       "Higher education                  44477\n",
       "Incomplete higher                  6010\n",
       "Lower secondary                    1433\n",
       "Academic degree                      90\n",
       "Name: NAME_EDUCATION_TYPE, dtype: int64"
      ]
     },
     "execution_count": 17,
     "metadata": {},
     "output_type": "execute_result"
    }
   ],
   "source": [
    "loan_df['NAME_EDUCATION_TYPE'].value_counts()"
   ]
  },
  {
   "cell_type": "code",
   "execution_count": 18,
   "id": "13a8246d",
   "metadata": {},
   "outputs": [
    {
     "data": {
      "text/plain": [
       "Married                 111844\n",
       "Single / not married     24171\n",
       "Civil marriage           16515\n",
       "Separated                10769\n",
       "Widow                     4433\n",
       "Name: NAME_FAMILY_STATUS, dtype: int64"
      ]
     },
     "execution_count": 18,
     "metadata": {},
     "output_type": "execute_result"
    }
   ],
   "source": [
    "loan_df['NAME_FAMILY_STATUS'].value_counts()"
   ]
  },
  {
   "cell_type": "code",
   "execution_count": 19,
   "id": "65f67d8f",
   "metadata": {},
   "outputs": [
    {
     "data": {
      "text/plain": [
       "House / apartment      147526\n",
       "With parents             9172\n",
       "Municipal apartment      5916\n",
       "Rented apartment         2909\n",
       "Office apartment         1517\n",
       "Co-op apartment           692\n",
       "Name: NAME_HOUSING_TYPE, dtype: int64"
      ]
     },
     "execution_count": 19,
     "metadata": {},
     "output_type": "execute_result"
    }
   ],
   "source": [
    "loan_df['NAME_HOUSING_TYPE'].value_counts()"
   ]
  },
  {
   "cell_type": "code",
   "execution_count": 20,
   "id": "7c5d264a",
   "metadata": {},
   "outputs": [
    {
     "data": {
      "text/plain": [
       "Laborers                 43437\n",
       "Sales staff              24254\n",
       "Core staff               22669\n",
       "Managers                 17787\n",
       "Drivers                  14546\n",
       "High skill tech staff     9264\n",
       "Accountants               8135\n",
       "Medicine staff            7223\n",
       "Security staff            5218\n",
       "Cooking staff             4633\n",
       "Cleaning staff            3637\n",
       "Private service staff     1975\n",
       "Low-skill Laborers        1443\n",
       "Secretaries               1047\n",
       "Waiters/barmen staff      1010\n",
       "Realty agents              569\n",
       "HR staff                   460\n",
       "IT staff                   425\n",
       "Name: OCCUPATION_TYPE, dtype: int64"
      ]
     },
     "execution_count": 20,
     "metadata": {},
     "output_type": "execute_result"
    }
   ],
   "source": [
    "loan_df['OCCUPATION_TYPE'].value_counts()"
   ]
  },
  {
   "cell_type": "code",
   "execution_count": 21,
   "id": "b90b8e7d",
   "metadata": {},
   "outputs": [
    {
     "data": {
      "text/plain": [
       "WEDNESDAY    28655\n",
       "TUESDAY      28469\n",
       "THURSDAY     27600\n",
       "FRIDAY       27536\n",
       "MONDAY       27298\n",
       "SATURDAY     19159\n",
       "SUNDAY        9015\n",
       "Name: WEEKDAY_APPR_PROCESS_START, dtype: int64"
      ]
     },
     "execution_count": 21,
     "metadata": {},
     "output_type": "execute_result"
    }
   ],
   "source": [
    "loan_df['WEEKDAY_APPR_PROCESS_START'].value_counts()"
   ]
  },
  {
   "cell_type": "code",
   "execution_count": 22,
   "id": "c85a5652",
   "metadata": {
    "scrolled": true
   },
   "outputs": [
    {
     "data": {
      "text/plain": [
       "Business Entity Type 3    42113\n",
       "Self-employed             25892\n",
       "Other                      9194\n",
       "Medicine                   8548\n",
       "Government                 6958\n",
       "Business Entity Type 2     6893\n",
       "School                     6316\n",
       "Trade: type 7              5608\n",
       "Kindergarten               5327\n",
       "Construction               4675\n",
       "Business Entity Type 1     3830\n",
       "Transport: type 4          3540\n",
       "Trade: type 3              2584\n",
       "Industry: type 9           2403\n",
       "Security                   2397\n",
       "Industry: type 3           2325\n",
       "Housing                    2061\n",
       "Bank                       1867\n",
       "Police                     1824\n",
       "Industry: type 11          1773\n",
       "Military                   1717\n",
       "Transport: type 2          1678\n",
       "Postal                     1645\n",
       "Agriculture                1567\n",
       "Trade: type 2              1350\n",
       "Security Ministries        1324\n",
       "Restaurant                 1230\n",
       "Services                   1124\n",
       "Industry: type 7            898\n",
       "Transport: type 3           854\n",
       "University                  847\n",
       "Industry: type 1            718\n",
       "Electricity                 712\n",
       "Hotel                       572\n",
       "Industry: type 4            557\n",
       "Telecom                     435\n",
       "Trade: type 6               431\n",
       "Industry: type 5            426\n",
       "Insurance                   415\n",
       "Emergency                   395\n",
       "Industry: type 2            327\n",
       "Advertising                 297\n",
       "Realtor                     275\n",
       "Trade: type 1               260\n",
       "Industry: type 12           255\n",
       "Mobile                      239\n",
       "Culture                     235\n",
       "Legal Services              225\n",
       "Cleaning                    143\n",
       "Transport: type 1           126\n",
       "Industry: type 10            81\n",
       "Industry: type 6             62\n",
       "Religion                     52\n",
       "Trade: type 4                46\n",
       "Industry: type 13            36\n",
       "Trade: type 5                36\n",
       "Industry: type 8             14\n",
       "Name: ORGANIZATION_TYPE, dtype: int64"
      ]
     },
     "execution_count": 22,
     "metadata": {},
     "output_type": "execute_result"
    }
   ],
   "source": [
    "loan_df['ORGANIZATION_TYPE'].value_counts()"
   ]
  },
  {
   "cell_type": "markdown",
   "id": "4a70b992",
   "metadata": {},
   "source": [
    "### Encode the columns that is required for the model"
   ]
  },
  {
   "cell_type": "code",
   "execution_count": 23,
   "id": "1571ef36",
   "metadata": {},
   "outputs": [],
   "source": [
    "# Now We have some categorical column that we will encode foe the model building.\n",
    "from sklearn.preprocessing import LabelEncoder"
   ]
  },
  {
   "cell_type": "code",
   "execution_count": 24,
   "id": "98fd9c75",
   "metadata": {},
   "outputs": [],
   "source": [
    "le = LabelEncoder()"
   ]
  },
  {
   "cell_type": "code",
   "execution_count": 25,
   "id": "68f2b46a",
   "metadata": {},
   "outputs": [],
   "source": [
    "loan_df['NAME_CONTRACT_TYPE'] = le.fit_transform(loan_df['NAME_CONTRACT_TYPE'])\n",
    "loan_df['CODE_GENDER'] = le.fit_transform(loan_df['CODE_GENDER'])\n",
    "loan_df['FLAG_OWN_CAR'] = le.fit_transform(loan_df['FLAG_OWN_CAR'])\n",
    "loan_df['FLAG_OWN_REALTY'] = le.fit_transform(loan_df['FLAG_OWN_REALTY'])\n",
    "loan_df['NAME_TYPE_SUITE'] = le.fit_transform(loan_df['NAME_TYPE_SUITE'])\n",
    "loan_df['NAME_INCOME_TYPE'] = le.fit_transform(loan_df['NAME_INCOME_TYPE'])\n",
    "loan_df['NAME_EDUCATION_TYPE'] = le.fit_transform(loan_df['NAME_EDUCATION_TYPE'])\n",
    "loan_df['NAME_FAMILY_STATUS'] = le.fit_transform(loan_df['NAME_FAMILY_STATUS'])\n",
    "loan_df['NAME_HOUSING_TYPE'] = le.fit_transform(loan_df['NAME_HOUSING_TYPE'])\n",
    "loan_df['OCCUPATION_TYPE'] = le.fit_transform(loan_df['OCCUPATION_TYPE'])\n",
    "loan_df['WEEKDAY_APPR_PROCESS_START'] = le.fit_transform(loan_df['WEEKDAY_APPR_PROCESS_START'])\n",
    "loan_df['ORGANIZATION_TYPE'] = le.fit_transform(loan_df['ORGANIZATION_TYPE'])"
   ]
  },
  {
   "cell_type": "code",
   "execution_count": 26,
   "id": "15b24404",
   "metadata": {},
   "outputs": [
    {
     "data": {
      "text/plain": [
       "8     43437\n",
       "14    24254\n",
       "3     22669\n",
       "10    17787\n",
       "4     14546\n",
       "6      9264\n",
       "0      8135\n",
       "11     7223\n",
       "16     5218\n",
       "2      4633\n",
       "1      3637\n",
       "12     1975\n",
       "9      1443\n",
       "15     1047\n",
       "17     1010\n",
       "13      569\n",
       "5       460\n",
       "7       425\n",
       "Name: OCCUPATION_TYPE, dtype: int64"
      ]
     },
     "execution_count": 26,
     "metadata": {},
     "output_type": "execute_result"
    }
   ],
   "source": [
    "loan_df['OCCUPATION_TYPE'].value_counts()"
   ]
  },
  {
   "cell_type": "markdown",
   "id": "f2020f8f",
   "metadata": {},
   "source": [
    "### Print percentage of default to payer of the dataset for the TARGET column"
   ]
  },
  {
   "cell_type": "code",
   "execution_count": 27,
   "id": "0df55bcd",
   "metadata": {},
   "outputs": [
    {
     "data": {
      "text/plain": [
       "0    153525\n",
       "1     14207\n",
       "Name: TARGET, dtype: int64"
      ]
     },
     "execution_count": 27,
     "metadata": {},
     "output_type": "execute_result"
    }
   ],
   "source": [
    "loan_df.TARGET.value_counts()"
   ]
  },
  {
   "cell_type": "code",
   "execution_count": 28,
   "id": "669cdec4",
   "metadata": {},
   "outputs": [
    {
     "data": {
      "text/plain": [
       "8.470059380440226"
      ]
     },
     "execution_count": 28,
     "metadata": {},
     "output_type": "execute_result"
    }
   ],
   "source": [
    "((loan_df['TARGET']==1).sum() / loan_df.shape[0])*100"
   ]
  },
  {
   "cell_type": "markdown",
   "id": "7d3a1f72",
   "metadata": {},
   "source": [
    "From above code its clear that dataset is highly imbalanced, so we will balanced the dataset."
   ]
  },
  {
   "cell_type": "markdown",
   "id": "06e01fe3",
   "metadata": {},
   "source": [
    "### Balance the dataset if the data is imbalanced"
   ]
  },
  {
   "cell_type": "code",
   "execution_count": 29,
   "id": "fdf46d0a",
   "metadata": {},
   "outputs": [],
   "source": [
    "# Lets apply the smote oversampling thechnique \n",
    "from imblearn.over_sampling import SMOTE"
   ]
  },
  {
   "cell_type": "code",
   "execution_count": 35,
   "id": "c5e5bd96",
   "metadata": {},
   "outputs": [],
   "source": [
    "x = loan_df.drop(['TARGET'], axis=1)\n",
    "y = loan_df[['TARGET']]"
   ]
  },
  {
   "cell_type": "code",
   "execution_count": 36,
   "id": "da4c3cdf",
   "metadata": {},
   "outputs": [],
   "source": [
    "smt = SMOTE()"
   ]
  },
  {
   "cell_type": "code",
   "execution_count": 37,
   "id": "fba6f963",
   "metadata": {
    "scrolled": true
   },
   "outputs": [],
   "source": [
    "x_sm, y_sm = smt.fit_resample(x, y)"
   ]
  },
  {
   "cell_type": "code",
   "execution_count": 39,
   "id": "b7b55c27",
   "metadata": {},
   "outputs": [
    {
     "name": "stdout",
     "output_type": "stream",
     "text": [
      "(307050, 1)\n",
      "TARGET\n",
      "0         153525\n",
      "1         153525\n",
      "dtype: int64\n"
     ]
    }
   ],
   "source": [
    "print(y_sm.shape)\n",
    "print(y_sm.value_counts())"
   ]
  },
  {
   "cell_type": "markdown",
   "id": "0c2d6e89",
   "metadata": {},
   "source": [
    "Now dataset is balanced."
   ]
  },
  {
   "cell_type": "code",
   "execution_count": 40,
   "id": "4ce30756",
   "metadata": {},
   "outputs": [],
   "source": [
    "loan_df = pd.concat([x_sm,y_sm], axis=1)"
   ]
  },
  {
   "cell_type": "code",
   "execution_count": 50,
   "id": "3739a554",
   "metadata": {},
   "outputs": [
    {
     "data": {
      "text/html": [
       "<div>\n",
       "<style scoped>\n",
       "    .dataframe tbody tr th:only-of-type {\n",
       "        vertical-align: middle;\n",
       "    }\n",
       "\n",
       "    .dataframe tbody tr th {\n",
       "        vertical-align: top;\n",
       "    }\n",
       "\n",
       "    .dataframe thead th {\n",
       "        text-align: right;\n",
       "    }\n",
       "</style>\n",
       "<table border=\"1\" class=\"dataframe\">\n",
       "  <thead>\n",
       "    <tr style=\"text-align: right;\">\n",
       "      <th></th>\n",
       "      <th>NAME_CONTRACT_TYPE</th>\n",
       "      <th>CODE_GENDER</th>\n",
       "      <th>FLAG_OWN_CAR</th>\n",
       "      <th>FLAG_OWN_REALTY</th>\n",
       "      <th>CNT_CHILDREN</th>\n",
       "      <th>AMT_INCOME_TOTAL</th>\n",
       "      <th>AMT_CREDIT</th>\n",
       "      <th>AMT_ANNUITY</th>\n",
       "      <th>AMT_GOODS_PRICE</th>\n",
       "      <th>NAME_TYPE_SUITE</th>\n",
       "      <th>...</th>\n",
       "      <th>FLAG_DOCUMENT_19</th>\n",
       "      <th>FLAG_DOCUMENT_20</th>\n",
       "      <th>FLAG_DOCUMENT_21</th>\n",
       "      <th>AMT_REQ_CREDIT_BUREAU_HOUR</th>\n",
       "      <th>AMT_REQ_CREDIT_BUREAU_DAY</th>\n",
       "      <th>AMT_REQ_CREDIT_BUREAU_WEEK</th>\n",
       "      <th>AMT_REQ_CREDIT_BUREAU_MON</th>\n",
       "      <th>AMT_REQ_CREDIT_BUREAU_QRT</th>\n",
       "      <th>AMT_REQ_CREDIT_BUREAU_YEAR</th>\n",
       "      <th>TARGET</th>\n",
       "    </tr>\n",
       "  </thead>\n",
       "  <tbody>\n",
       "    <tr>\n",
       "      <th>0</th>\n",
       "      <td>0</td>\n",
       "      <td>1</td>\n",
       "      <td>0</td>\n",
       "      <td>1</td>\n",
       "      <td>0</td>\n",
       "      <td>202500.0</td>\n",
       "      <td>406597.5</td>\n",
       "      <td>24700.5</td>\n",
       "      <td>351000.0</td>\n",
       "      <td>6</td>\n",
       "      <td>...</td>\n",
       "      <td>0</td>\n",
       "      <td>0</td>\n",
       "      <td>0</td>\n",
       "      <td>0.0</td>\n",
       "      <td>0.0</td>\n",
       "      <td>0.0</td>\n",
       "      <td>0.0</td>\n",
       "      <td>0.0</td>\n",
       "      <td>1.0</td>\n",
       "      <td>1</td>\n",
       "    </tr>\n",
       "    <tr>\n",
       "      <th>1</th>\n",
       "      <td>1</td>\n",
       "      <td>1</td>\n",
       "      <td>1</td>\n",
       "      <td>1</td>\n",
       "      <td>0</td>\n",
       "      <td>67500.0</td>\n",
       "      <td>135000.0</td>\n",
       "      <td>6750.0</td>\n",
       "      <td>135000.0</td>\n",
       "      <td>6</td>\n",
       "      <td>...</td>\n",
       "      <td>0</td>\n",
       "      <td>0</td>\n",
       "      <td>0</td>\n",
       "      <td>0.0</td>\n",
       "      <td>0.0</td>\n",
       "      <td>0.0</td>\n",
       "      <td>0.0</td>\n",
       "      <td>0.0</td>\n",
       "      <td>0.0</td>\n",
       "      <td>0</td>\n",
       "    </tr>\n",
       "    <tr>\n",
       "      <th>2</th>\n",
       "      <td>0</td>\n",
       "      <td>1</td>\n",
       "      <td>0</td>\n",
       "      <td>1</td>\n",
       "      <td>0</td>\n",
       "      <td>99000.0</td>\n",
       "      <td>490495.5</td>\n",
       "      <td>27517.5</td>\n",
       "      <td>454500.0</td>\n",
       "      <td>5</td>\n",
       "      <td>...</td>\n",
       "      <td>0</td>\n",
       "      <td>0</td>\n",
       "      <td>0</td>\n",
       "      <td>0.0</td>\n",
       "      <td>0.0</td>\n",
       "      <td>0.0</td>\n",
       "      <td>0.0</td>\n",
       "      <td>1.0</td>\n",
       "      <td>1.0</td>\n",
       "      <td>0</td>\n",
       "    </tr>\n",
       "    <tr>\n",
       "      <th>3</th>\n",
       "      <td>0</td>\n",
       "      <td>0</td>\n",
       "      <td>1</td>\n",
       "      <td>1</td>\n",
       "      <td>1</td>\n",
       "      <td>171000.0</td>\n",
       "      <td>1560726.0</td>\n",
       "      <td>41301.0</td>\n",
       "      <td>1395000.0</td>\n",
       "      <td>6</td>\n",
       "      <td>...</td>\n",
       "      <td>0</td>\n",
       "      <td>0</td>\n",
       "      <td>0</td>\n",
       "      <td>0.0</td>\n",
       "      <td>0.0</td>\n",
       "      <td>0.0</td>\n",
       "      <td>1.0</td>\n",
       "      <td>1.0</td>\n",
       "      <td>2.0</td>\n",
       "      <td>0</td>\n",
       "    </tr>\n",
       "    <tr>\n",
       "      <th>4</th>\n",
       "      <td>0</td>\n",
       "      <td>1</td>\n",
       "      <td>1</td>\n",
       "      <td>1</td>\n",
       "      <td>0</td>\n",
       "      <td>360000.0</td>\n",
       "      <td>1530000.0</td>\n",
       "      <td>42075.0</td>\n",
       "      <td>1530000.0</td>\n",
       "      <td>6</td>\n",
       "      <td>...</td>\n",
       "      <td>0</td>\n",
       "      <td>0</td>\n",
       "      <td>0</td>\n",
       "      <td>0.0</td>\n",
       "      <td>0.0</td>\n",
       "      <td>0.0</td>\n",
       "      <td>0.0</td>\n",
       "      <td>0.0</td>\n",
       "      <td>0.0</td>\n",
       "      <td>0</td>\n",
       "    </tr>\n",
       "  </tbody>\n",
       "</table>\n",
       "<p>5 rows × 72 columns</p>\n",
       "</div>"
      ],
      "text/plain": [
       "   NAME_CONTRACT_TYPE  CODE_GENDER  FLAG_OWN_CAR  FLAG_OWN_REALTY  \\\n",
       "0                   0            1             0                1   \n",
       "1                   1            1             1                1   \n",
       "2                   0            1             0                1   \n",
       "3                   0            0             1                1   \n",
       "4                   0            1             1                1   \n",
       "\n",
       "   CNT_CHILDREN  AMT_INCOME_TOTAL  AMT_CREDIT  AMT_ANNUITY  AMT_GOODS_PRICE  \\\n",
       "0             0          202500.0    406597.5      24700.5         351000.0   \n",
       "1             0           67500.0    135000.0       6750.0         135000.0   \n",
       "2             0           99000.0    490495.5      27517.5         454500.0   \n",
       "3             1          171000.0   1560726.0      41301.0        1395000.0   \n",
       "4             0          360000.0   1530000.0      42075.0        1530000.0   \n",
       "\n",
       "   NAME_TYPE_SUITE  ...  FLAG_DOCUMENT_19  FLAG_DOCUMENT_20  FLAG_DOCUMENT_21  \\\n",
       "0                6  ...                 0                 0                 0   \n",
       "1                6  ...                 0                 0                 0   \n",
       "2                5  ...                 0                 0                 0   \n",
       "3                6  ...                 0                 0                 0   \n",
       "4                6  ...                 0                 0                 0   \n",
       "\n",
       "   AMT_REQ_CREDIT_BUREAU_HOUR  AMT_REQ_CREDIT_BUREAU_DAY  \\\n",
       "0                         0.0                        0.0   \n",
       "1                         0.0                        0.0   \n",
       "2                         0.0                        0.0   \n",
       "3                         0.0                        0.0   \n",
       "4                         0.0                        0.0   \n",
       "\n",
       "   AMT_REQ_CREDIT_BUREAU_WEEK  AMT_REQ_CREDIT_BUREAU_MON  \\\n",
       "0                         0.0                        0.0   \n",
       "1                         0.0                        0.0   \n",
       "2                         0.0                        0.0   \n",
       "3                         0.0                        1.0   \n",
       "4                         0.0                        0.0   \n",
       "\n",
       "   AMT_REQ_CREDIT_BUREAU_QRT  AMT_REQ_CREDIT_BUREAU_YEAR  TARGET  \n",
       "0                        0.0                         1.0       1  \n",
       "1                        0.0                         0.0       0  \n",
       "2                        1.0                         1.0       0  \n",
       "3                        1.0                         2.0       0  \n",
       "4                        0.0                         0.0       0  \n",
       "\n",
       "[5 rows x 72 columns]"
      ]
     },
     "execution_count": 50,
     "metadata": {},
     "output_type": "execute_result"
    }
   ],
   "source": [
    "loan_df.head()"
   ]
  },
  {
   "cell_type": "markdown",
   "id": "03e8f860",
   "metadata": {},
   "source": [
    "### Plot the balanced data or imbalanced data\n"
   ]
  },
  {
   "cell_type": "code",
   "execution_count": 47,
   "id": "880af43c",
   "metadata": {},
   "outputs": [
    {
     "data": {
      "image/png": "[encoded data removed]",
      "text/plain": [
       "<Figure size 432x288 with 1 Axes>"
      ]
     },
     "metadata": {
      "needs_background": "light"
     },
     "output_type": "display_data"
    }
   ],
   "source": [
    "sns.countplot(loan_df['TARGET'])\n",
    "plt.title('Plot of balanced data')\n",
    "plt.show()"
   ]
  },
  {
   "cell_type": "code",
   "execution_count": 51,
   "id": "02b6280c",
   "metadata": {},
   "outputs": [],
   "source": [
    "x = loan_df.drop([\"TARGET\"], axis = 1)\n",
    "y = loan_df[[\"TARGET\"]]"
   ]
  },
  {
   "cell_type": "code",
   "execution_count": 49,
   "id": "ca83e26c",
   "metadata": {},
   "outputs": [],
   "source": [
    "# Now lets split the data set \n",
    "from sklearn.model_selection import train_test_split"
   ]
  },
  {
   "cell_type": "code",
   "execution_count": 52,
   "id": "d1349c9b",
   "metadata": {},
   "outputs": [],
   "source": [
    "x_train, x_test, y_train, y_test = train_test_split(x,y, test_size=.25, random_state=10)"
   ]
  },
  {
   "cell_type": "code",
   "execution_count": 53,
   "id": "0d3887f8",
   "metadata": {},
   "outputs": [],
   "source": [
    "from sklearn.preprocessing import StandardScaler"
   ]
  },
  {
   "cell_type": "code",
   "execution_count": 54,
   "id": "4043bad2",
   "metadata": {},
   "outputs": [],
   "source": [
    "sc = StandardScaler()"
   ]
  },
  {
   "cell_type": "code",
   "execution_count": 56,
   "id": "4ec67510",
   "metadata": {},
   "outputs": [],
   "source": [
    "x_train = sc.fit_transform(x_train)\n",
    "x_test = sc.transform(x_test)"
   ]
  },
  {
   "cell_type": "code",
   "execution_count": 58,
   "id": "da7ea755",
   "metadata": {},
   "outputs": [
    {
     "data": {
      "text/plain": [
       "(230287, 71)"
      ]
     },
     "execution_count": 58,
     "metadata": {},
     "output_type": "execute_result"
    }
   ],
   "source": [
    "x_train.shape"
   ]
  },
  {
   "cell_type": "code",
   "execution_count": 48,
   "id": "3c28b3e9",
   "metadata": {},
   "outputs": [],
   "source": [
    "# Now lets create the ANN model for this problem \n",
    "from tensorflow.keras.models import Sequential\n",
    "from tensorflow.keras.layers import Dense\n",
    "from tensorflow.keras.layers import LeakyReLU,PReLU,ELU, ReLU\n",
    "from tensorflow.keras.layers import Dropout"
   ]
  },
  {
   "cell_type": "code",
   "execution_count": 57,
   "id": "fce7f4fc",
   "metadata": {},
   "outputs": [],
   "source": [
    "classifier = Sequential()"
   ]
  },
  {
   "cell_type": "code",
   "execution_count": 59,
   "id": "e944195b",
   "metadata": {},
   "outputs": [],
   "source": [
    "# lets First introducing the input layer \n",
    "classifier.add(Dense(units=71, activation='relu'))"
   ]
  },
  {
   "cell_type": "code",
   "execution_count": 60,
   "id": "fe5f122b",
   "metadata": {},
   "outputs": [],
   "source": [
    "# now lets introduce the first hidden layer\n",
    "classifier.add(Dense(units=50, activation='relu'))"
   ]
  },
  {
   "cell_type": "code",
   "execution_count": 61,
   "id": "4dacfef8",
   "metadata": {},
   "outputs": [],
   "source": [
    "# now lets introduce the second hidden layer\n",
    "classifier.add(Dense(units=35, activation='relu'))"
   ]
  },
  {
   "cell_type": "code",
   "execution_count": 62,
   "id": "70b76e89",
   "metadata": {},
   "outputs": [],
   "source": [
    "# Adding the output layer \n",
    "classifier.add(Dense(1, activation='sigmoid'))"
   ]
  },
  {
   "cell_type": "code",
   "execution_count": 63,
   "id": "2fb7f93b",
   "metadata": {},
   "outputs": [],
   "source": [
    "import tensorflow\n",
    "opt = tensorflow.keras.optimizers.Adam(learning_rate = 0.01)"
   ]
  },
  {
   "cell_type": "code",
   "execution_count": 64,
   "id": "35680573",
   "metadata": {},
   "outputs": [],
   "source": [
    "classifier.compile(optimizer=opt, loss='binary_crossentropy', metrics=['accuracy'])"
   ]
  },
  {
   "cell_type": "code",
   "execution_count": 65,
   "id": "851c3994",
   "metadata": {},
   "outputs": [],
   "source": [
    "# early stoping\n",
    "import tensorflow as tf\n",
    "early_stoping = tf.keras.callbacks.EarlyStopping(\n",
    "monitor = 'val_loss',\n",
    "min_delta=0.0001,\n",
    "patience=20,\n",
    "verbose=1,\n",
    "mode='auto',\n",
    "baseline=None,\n",
    "restore_best_weights=False)"
   ]
  },
  {
   "cell_type": "code",
   "execution_count": 66,
   "id": "d2d93361",
   "metadata": {
    "scrolled": false
   },
   "outputs": [
    {
     "name": "stdout",
     "output_type": "stream",
     "text": [
      "Epoch 1/1000\n",
      "15430/15430 [==============================] - 144s 9ms/step - loss: 0.3602 - accuracy: 0.8473 - val_loss: 0.3223 - val_accuracy: 0.8640\n",
      "Epoch 2/1000\n",
      "15430/15430 [==============================] - 181s 12ms/step - loss: 0.3084 - accuracy: 0.8728 - val_loss: 0.2987 - val_accuracy: 0.8775\n",
      "Epoch 3/1000\n",
      "15430/15430 [==============================] - 235s 15ms/step - loss: 0.2902 - accuracy: 0.8831 - val_loss: 0.2872 - val_accuracy: 0.8831\n",
      "Epoch 4/1000\n",
      "15430/15430 [==============================] - 167s 11ms/step - loss: 0.2766 - accuracy: 0.8895 - val_loss: 0.2775 - val_accuracy: 0.8881\n",
      "Epoch 5/1000\n",
      "15430/15430 [==============================] - 120s 8ms/step - loss: 0.2761 - accuracy: 0.8933 - val_loss: 0.2748 - val_accuracy: 0.8896\n",
      "Epoch 6/1000\n",
      "15430/15430 [==============================] - 133s 9ms/step - loss: 0.2656 - accuracy: 0.8954 - val_loss: 0.2722 - val_accuracy: 0.8917\n",
      "Epoch 7/1000\n",
      "15430/15430 [==============================] - 134s 9ms/step - loss: 0.2648 - accuracy: 0.8967 - val_loss: 0.2808 - val_accuracy: 0.8897\n",
      "Epoch 8/1000\n",
      "15430/15430 [==============================] - 119s 8ms/step - loss: 0.2610 - accuracy: 0.8986 - val_loss: 0.2760 - val_accuracy: 0.8938\n",
      "Epoch 9/1000\n",
      "15430/15430 [==============================] - 116s 8ms/step - loss: 0.2608 - accuracy: 0.8992 - val_loss: 0.2873 - val_accuracy: 0.8848\n",
      "Epoch 10/1000\n",
      "15430/15430 [==============================] - 124s 8ms/step - loss: 0.2605 - accuracy: 0.8997 - val_loss: 0.2631 - val_accuracy: 0.8976\n",
      "Epoch 11/1000\n",
      "15430/15430 [==============================] - 147s 10ms/step - loss: 0.2618 - accuracy: 0.9000 - val_loss: 0.2704 - val_accuracy: 0.8960\n",
      "Epoch 12/1000\n",
      "15430/15430 [==============================] - 146s 9ms/step - loss: 0.2621 - accuracy: 0.9003 - val_loss: 0.2954 - val_accuracy: 0.8952\n",
      "Epoch 13/1000\n",
      "15430/15430 [==============================] - 147s 10ms/step - loss: 0.2581 - accuracy: 0.9015 - val_loss: 0.2639 - val_accuracy: 0.8968\n",
      "Epoch 14/1000\n",
      "15430/15430 [==============================] - 151s 10ms/step - loss: 0.2592 - accuracy: 0.9024 - val_loss: 0.2715 - val_accuracy: 0.8936\n",
      "Epoch 15/1000\n",
      "15430/15430 [==============================] - 167s 11ms/step - loss: 0.2570 - accuracy: 0.9033 - val_loss: 0.2760 - val_accuracy: 0.8925\n",
      "Epoch 16/1000\n",
      "15430/15430 [==============================] - 152s 10ms/step - loss: 0.2551 - accuracy: 0.9032 - val_loss: 0.2673 - val_accuracy: 0.8964\n",
      "Epoch 17/1000\n",
      "15430/15430 [==============================] - 172s 11ms/step - loss: 0.2559 - accuracy: 0.9038 - val_loss: 0.2720 - val_accuracy: 0.8979\n",
      "Epoch 18/1000\n",
      "15430/15430 [==============================] - 153s 10ms/step - loss: 0.2592 - accuracy: 0.9030 - val_loss: 0.3138 - val_accuracy: 0.8935\n",
      "Epoch 19/1000\n",
      "15430/15430 [==============================] - 153s 10ms/step - loss: 0.2573 - accuracy: 0.9032 - val_loss: 0.2728 - val_accuracy: 0.8968\n",
      "Epoch 20/1000\n",
      "15430/15430 [==============================] - 191s 12ms/step - loss: 0.2567 - accuracy: 0.9036 - val_loss: 0.2710 - val_accuracy: 0.8964\n",
      "Epoch 21/1000\n",
      "15430/15430 [==============================] - 156s 10ms/step - loss: 0.2614 - accuracy: 0.9027 - val_loss: 0.2786 - val_accuracy: 0.8967\n",
      "Epoch 22/1000\n",
      "15430/15430 [==============================] - 169s 11ms/step - loss: 0.2563 - accuracy: 0.9048 - val_loss: 0.2691 - val_accuracy: 0.8962\n",
      "Epoch 23/1000\n",
      "15430/15430 [==============================] - 166s 11ms/step - loss: 0.2570 - accuracy: 0.9045 - val_loss: 0.2726 - val_accuracy: 0.8940\n",
      "Epoch 24/1000\n",
      "15430/15430 [==============================] - 153s 10ms/step - loss: 0.2585 - accuracy: 0.9041 - val_loss: 0.2848 - val_accuracy: 0.8906\n",
      "Epoch 25/1000\n",
      "15430/15430 [==============================] - 167s 11ms/step - loss: 0.2538 - accuracy: 0.9060 - val_loss: 0.2698 - val_accuracy: 0.8997\n",
      "Epoch 26/1000\n",
      "15430/15430 [==============================] - 153s 10ms/step - loss: 0.2541 - accuracy: 0.9059 - val_loss: 0.2792 - val_accuracy: 0.8971\n",
      "Epoch 27/1000\n",
      "15430/15430 [==============================] - 148s 10ms/step - loss: 0.2540 - accuracy: 0.9058 - val_loss: 0.2617 - val_accuracy: 0.9019\n",
      "Epoch 28/1000\n",
      "15430/15430 [==============================] - 149s 10ms/step - loss: 0.2538 - accuracy: 0.9057 - val_loss: 0.2621 - val_accuracy: 0.8995\n",
      "Epoch 29/1000\n",
      "15430/15430 [==============================] - 131s 8ms/step - loss: 0.2566 - accuracy: 0.9047 - val_loss: 0.2733 - val_accuracy: 0.8953\n",
      "Epoch 30/1000\n",
      "15430/15430 [==============================] - 141s 9ms/step - loss: 0.2581 - accuracy: 0.9048 - val_loss: 0.2685 - val_accuracy: 0.9002\n",
      "Epoch 31/1000\n",
      "15430/15430 [==============================] - 140s 9ms/step - loss: 0.2561 - accuracy: 0.9063 - val_loss: 0.2729 - val_accuracy: 0.8966\n",
      "Epoch 32/1000\n",
      "15430/15430 [==============================] - 131s 8ms/step - loss: 0.2538 - accuracy: 0.9067 - val_loss: 0.2778 - val_accuracy: 0.8981\n",
      "Epoch 33/1000\n",
      "15430/15430 [==============================] - 133s 9ms/step - loss: 0.2556 - accuracy: 0.9060 - val_loss: 0.2680 - val_accuracy: 0.8994\n",
      "Epoch 34/1000\n",
      "15430/15430 [==============================] - 145s 9ms/step - loss: 0.2561 - accuracy: 0.9058 - val_loss: 0.2655 - val_accuracy: 0.9002\n",
      "Epoch 35/1000\n",
      "15430/15430 [==============================] - 154s 10ms/step - loss: 0.2542 - accuracy: 0.9060 - val_loss: 0.2722 - val_accuracy: 0.8973\n",
      "Epoch 36/1000\n",
      "15430/15430 [==============================] - 146s 9ms/step - loss: 0.2552 - accuracy: 0.9062 - val_loss: 0.2675 - val_accuracy: 0.8985\n",
      "Epoch 37/1000\n",
      "15430/15430 [==============================] - 141s 9ms/step - loss: 0.2520 - accuracy: 0.9077 - val_loss: 0.2634 - val_accuracy: 0.9010\n",
      "Epoch 38/1000\n",
      "15430/15430 [==============================] - 143s 9ms/step - loss: 0.2567 - accuracy: 0.9063 - val_loss: 0.2817 - val_accuracy: 0.8927\n",
      "Epoch 39/1000\n",
      "15430/15430 [==============================] - 144s 9ms/step - loss: 0.2585 - accuracy: 0.9055 - val_loss: 0.2759 - val_accuracy: 0.8945\n",
      "Epoch 40/1000\n",
      "15430/15430 [==============================] - 147s 10ms/step - loss: 0.2537 - accuracy: 0.9076 - val_loss: 0.2709 - val_accuracy: 0.9000\n",
      "Epoch 41/1000\n",
      "15430/15430 [==============================] - 148s 10ms/step - loss: 0.2508 - accuracy: 0.9087 - val_loss: 0.2691 - val_accuracy: 0.9010\n",
      "Epoch 42/1000\n",
      "15430/15430 [==============================] - 135s 9ms/step - loss: 0.2516 - accuracy: 0.9085 - val_loss: 0.2692 - val_accuracy: 0.9007\n",
      "Epoch 43/1000\n",
      "15430/15430 [==============================] - 103s 7ms/step - loss: 0.2502 - accuracy: 0.9092 - val_loss: 0.2662 - val_accuracy: 0.9008\n",
      "Epoch 44/1000\n",
      "15430/15430 [==============================] - 103s 7ms/step - loss: 0.2519 - accuracy: 0.9089 - val_loss: 0.2788 - val_accuracy: 0.8976\n",
      "Epoch 45/1000\n",
      "15430/15430 [==============================] - 104s 7ms/step - loss: 0.2546 - accuracy: 0.9078 - val_loss: 0.2718 - val_accuracy: 0.8973\n",
      "Epoch 46/1000\n",
      "15430/15430 [==============================] - 103s 7ms/step - loss: 0.2536 - accuracy: 0.9075 - val_loss: 0.2758 - val_accuracy: 0.8983\n",
      "Epoch 47/1000\n",
      "15430/15430 [==============================] - 103s 7ms/step - loss: 0.2547 - accuracy: 0.9078 - val_loss: 0.2637 - val_accuracy: 0.8997\n",
      "Epoch 47: early stopping\n"
     ]
    }
   ],
   "source": [
    "model = classifier.fit(x_train, y_train, validation_split=0.33,batch_size=10, epochs=1000, callbacks=early_stoping)"
   ]
  },
  {
   "cell_type": "code",
   "execution_count": 67,
   "id": "901becc8",
   "metadata": {},
   "outputs": [
    {
     "data": {
      "image/png": "[encoded data removed]",
      "text/plain": [
       "<Figure size 432x288 with 1 Axes>"
      ]
     },
     "metadata": {
      "needs_background": "light"
     },
     "output_type": "display_data"
    }
   ],
   "source": [
    "# Summarize the history for accuracy \n",
    "plt.plot(model.history['accuracy'])\n",
    "plt.plot(model.history['val_accuracy'])\n",
    "plt.title('model_accuracy')\n",
    "plt.ylabel('accuracy')\n",
    "plt.xlabel('epoch')\n",
    "plt.legend(['train','test'], loc='upper left')\n",
    "plt.show()"
   ]
  },
  {
   "cell_type": "code",
   "execution_count": 80,
   "id": "21aed4b5",
   "metadata": {},
   "outputs": [
    {
     "name": "stdout",
     "output_type": "stream",
     "text": [
      "2399/2399 [==============================] - 13s 5ms/step\n"
     ]
    }
   ],
   "source": [
    "# Making the prediction and evaluating the model.\n",
    "y_pred = classifier.predict(x_test)\n",
    "y_preds = (y_pred>=0.5)"
   ]
  },
  {
   "cell_type": "code",
   "execution_count": 81,
   "id": "e8e06843",
   "metadata": {},
   "outputs": [
    {
     "data": {
      "text/plain": [
       "array([[ True],\n",
       "       [ True],\n",
       "       [False],\n",
       "       ...,\n",
       "       [False],\n",
       "       [ True],\n",
       "       [ True]])"
      ]
     },
     "execution_count": 81,
     "metadata": {},
     "output_type": "execute_result"
    }
   ],
   "source": [
    "y_preds"
   ]
  },
  {
   "cell_type": "code",
   "execution_count": 82,
   "id": "6065aad6",
   "metadata": {},
   "outputs": [],
   "source": [
    "from sklearn.metrics import classification_report, confusion_matrix, auc,roc_curve,roc_auc_score"
   ]
  },
  {
   "cell_type": "code",
   "execution_count": 83,
   "id": "34f8e100",
   "metadata": {},
   "outputs": [
    {
     "name": "stdout",
     "output_type": "stream",
     "text": [
      "              precision    recall  f1-score   support\n",
      "\n",
      "           0       0.87      0.94      0.90     38389\n",
      "           1       0.94      0.86      0.90     38374\n",
      "\n",
      "    accuracy                           0.90     76763\n",
      "   macro avg       0.90      0.90      0.90     76763\n",
      "weighted avg       0.90      0.90      0.90     76763\n",
      "\n"
     ]
    }
   ],
   "source": [
    "print(classification_report(y_test, y_preds))"
   ]
  },
  {
   "cell_type": "markdown",
   "id": "89899191",
   "metadata": {},
   "source": [
    "### Calculate Sensitivity as a metrice"
   ]
  },
  {
   "cell_type": "code",
   "execution_count": 84,
   "id": "34b9cd1e",
   "metadata": {},
   "outputs": [],
   "source": [
    "confusion = confusion_matrix(y_test, y_preds)"
   ]
  },
  {
   "cell_type": "code",
   "execution_count": 85,
   "id": "20f7b3ef",
   "metadata": {},
   "outputs": [
    {
     "data": {
      "text/plain": [
       "array([[36222,  2167],\n",
       "       [ 5484, 32890]], dtype=int64)"
      ]
     },
     "execution_count": 85,
     "metadata": {},
     "output_type": "execute_result"
    }
   ],
   "source": [
    "confusion"
   ]
  },
  {
   "cell_type": "code",
   "execution_count": 86,
   "id": "e6727505",
   "metadata": {},
   "outputs": [],
   "source": [
    "# True Positive\n",
    "TP = confusion[1,1]\n",
    "# True Negatives\n",
    "TN = confusion[0,0] \n",
    "# False Positives\n",
    "FP = confusion[0,1]\n",
    "# False Negatives\n",
    "FN = confusion[1,0] "
   ]
  },
  {
   "cell_type": "code",
   "execution_count": 87,
   "id": "3597b1b6",
   "metadata": {},
   "outputs": [
    {
     "name": "stdout",
     "output_type": "stream",
     "text": [
      "Sensitivity: 0.857\n"
     ]
    }
   ],
   "source": [
    "sensitivity = TP/(TP+FN) \n",
    "print(\"Sensitivity: %.3f\" %sensitivity)"
   ]
  },
  {
   "cell_type": "markdown",
   "id": "9ac7fe8a",
   "metadata": {},
   "source": [
    "### Calculate area under receiver operating characteristics curve"
   ]
  },
  {
   "cell_type": "code",
   "execution_count": 90,
   "id": "54d68532",
   "metadata": {},
   "outputs": [
    {
     "name": "stdout",
     "output_type": "stream",
     "text": [
      "2399/2399 [==============================] - 13s 5ms/step\n",
      "AUC: 0.939\n"
     ]
    },
    {
     "data": {
      "image/png": "[encoded data removed]",
      "text/plain": [
       "<Figure size 432x288 with 1 Axes>"
      ]
     },
     "metadata": {
      "needs_background": "light"
     },
     "output_type": "display_data"
    }
   ],
   "source": [
    "# Let's compute the AUC(ROC) Receiver Operating Characteristics curve and also visualize by th\n",
    "probs = classifier.predict(x_test)\n",
    "# Area under the curve.\n",
    "auc_cl = roc_auc_score(y_test, probs)\n",
    "print(\"AUC: %.3f\" %auc_cl)\n",
    "# Calculating the roc curve.\n",
    "fpr, tpr, thresholds = roc_curve(y_test, probs)\n",
    "#plotting the auc(roc) curve.\n",
    "plt.plot([0,1], [0,1], linestyle='--')\n",
    "plt.plot(fpr,tpr, marker='.')\n",
    "plt.title(\"AUC(ROC) Curve\")\n",
    "plt.xlabel(\"False Positive Rate\")\n",
    "plt.ylabel(\"True Positive Rate\")\n",
    "plt.show()"
   ]
  },
  {
   "cell_type": "code",
   "execution_count": null,
   "id": "38dbff5f",
   "metadata": {},
   "outputs": [],
   "source": []
  },
  {
   "cell_type": "code",
   "execution_count": null,
   "id": "42c133ff",
   "metadata": {},
   "outputs": [],
   "source": []
  },
  {
   "cell_type": "code",
   "execution_count": null,
   "id": "1ffb2b9a",
   "metadata": {},
   "outputs": [],
   "source": []
  },
  {
   "cell_type": "code",
   "execution_count": null,
   "id": "61698e62",
   "metadata": {},
   "outputs": [],
   "source": []
  },
  {
   "cell_type": "code",
   "execution_count": null,
   "id": "4dc03e17",
   "metadata": {},
   "outputs": [],
   "source": []
  },
  {
   "cell_type": "code",
   "execution_count": null,
   "id": "be0d0353",
   "metadata": {},
   "outputs": [],
   "source": []
  },
  {
   "cell_type": "code",
   "execution_count": null,
   "id": "727d9a0d",
   "metadata": {},
   "outputs": [],
   "source": []
  }
 ],
 "metadata": {
  "kernelspec": {
   "display_name": "Python 3 (ipykernel)",
   "language": "python",
   "name": "python3"
  },
  "language_info": {
   "codemirror_mode": {
    "name": "ipython",
    "version": 3
   },
   "file_extension": ".py",
   "mimetype": "text/x-python",
   "name": "python",
   "nbconvert_exporter": "python",
   "pygments_lexer": "ipython3",
   "version": "3.9.12"
  }
 },
 "nbformat": 4,
 "nbformat_minor": 5
}
